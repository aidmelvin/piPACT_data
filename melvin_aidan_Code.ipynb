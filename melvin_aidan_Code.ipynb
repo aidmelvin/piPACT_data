{
  "nbformat": 4,
  "nbformat_minor": 0,
  "metadata": {
    "colab": {
      "name": "Copy of beginner.ipynb",
      "provenance": [],
      "collapsed_sections": [
        "rX8mhOLljYeM"
      ],
      "toc_visible": true
    },
    "kernelspec": {
      "display_name": "Python 3",
      "name": "python3"
    }
  },
  "cells": [
    {
      "cell_type": "markdown",
      "metadata": {
        "colab_type": "text",
        "id": "rX8mhOLljYeM"
      },
      "source": [
        "##### Copyright 2019 The TensorFlow Authors."
      ]
    },
    {
      "cell_type": "code",
      "metadata": {
        "cellView": "form",
        "colab_type": "code",
        "id": "BZSlp3DAjdYf",
        "colab": {}
      },
      "source": [
        "#@title Licensed under the Apache License, Version 2.0 (the \"License\");\n",
        "# you may not use this file except in compliance with the License.\n",
        "# You may obtain a copy of the License at\n",
        "#\n",
        "# https://www.apache.org/licenses/LICENSE-2.0\n",
        "#\n",
        "# Unless required by applicable law or agreed to in writing, software\n",
        "# distributed under the License is distributed on an \"AS IS\" BASIS,\n",
        "# WITHOUT WARRANTIES OR CONDITIONS OF ANY KIND, either express or implied.\n",
        "# See the License for the specific language governing permissions and\n",
        "# limitations under the License."
      ],
      "execution_count": null,
      "outputs": []
    },
    {
      "cell_type": "markdown",
      "metadata": {
        "colab_type": "text",
        "id": "3wF5wszaj97Y"
      },
      "source": [
        "# TensorFlow 2 quickstart for beginners"
      ]
    },
    {
      "cell_type": "code",
      "metadata": {
        "id": "B_s429rySkXX",
        "colab_type": "code",
        "colab": {}
      },
      "source": [
        "import tensorflow as tf #import tensorflow machine learning library"
      ],
      "execution_count": 129,
      "outputs": []
    },
    {
      "cell_type": "code",
      "metadata": {
        "id": "_MEa0kZwSpGu",
        "colab_type": "code",
        "colab": {}
      },
      "source": [
        "import numpy as np"
      ],
      "execution_count": 130,
      "outputs": []
    },
    {
      "cell_type": "code",
      "metadata": {
        "id": "FmE0_Y6pSsCc",
        "colab_type": "code",
        "colab": {}
      },
      "source": [
        "import csv\n"
      ],
      "execution_count": 131,
      "outputs": []
    },
    {
      "cell_type": "code",
      "metadata": {
        "id": "GYfKTfCjTRqN",
        "colab_type": "code",
        "colab": {}
      },
      "source": [
        "from pathlib import Path"
      ],
      "execution_count": 132,
      "outputs": []
    },
    {
      "cell_type": "code",
      "metadata": {
        "id": "H6QBQ2TYTXDN",
        "colab_type": "code",
        "colab": {}
      },
      "source": [
        "contents = csv.DictReader(open(Path(\"./data1.csv\"))) #reads in data"
      ],
      "execution_count": 133,
      "outputs": []
    },
    {
      "cell_type": "code",
      "metadata": {
        "id": "u0MuJ-DRTnyx",
        "colab_type": "code",
        "colab": {
          "base_uri": "https://localhost:8080/",
          "height": 51
        },
        "outputId": "6b3cc1db-e187-41ea-b809-286cd44dfa0e"
      },
      "source": [
        "rssi_values = []\n",
        "too_close_too_long = []\n",
        "i = 0\n",
        "for row in contents: #divides up data into  RSSI values and \"too close for too long\" values (1 = too close for too long, 0 is opposite)\n",
        "  rssi_values += [float(row['RSSI'])]\n",
        "  too_close_too_long += [int(row['Too Close for Too Long'])]\n",
        "\n",
        "rssi_values = rssi_values[:2200]\n",
        "rssi = np.array(rssi_values)\n",
        "too_close = np.array(too_close_too_long[:2200]) # puts data into np arrays for neural network to use\n",
        "print(rssi.shape) #debugging purposes\n",
        "print(too_close.shape)\n"
      ],
      "execution_count": 134,
      "outputs": [
        {
          "output_type": "stream",
          "text": [
            "(2200,)\n",
            "(2200,)\n"
          ],
          "name": "stdout"
        }
      ]
    },
    {
      "cell_type": "code",
      "metadata": {
        "id": "epz5KYpgVJCT",
        "colab_type": "code",
        "colab": {
          "base_uri": "https://localhost:8080/",
          "height": 374
        },
        "outputId": "8bc4e784-fe6b-4542-ecdb-b5d7ca807ef9"
      },
      "source": [
        "import tensorflow as tf\n",
        "\n",
        "model = tf.keras.models.Sequential([ # This block of code creates the neural network with 2 dense layers\n",
        "                                    \n",
        "  tf.keras.layers.Dense(15, activation='relu', input_shape = (1,)),\n",
        "  tf.keras.layers.Dense(2, activation='relu')\n",
        "])\n",
        "\n",
        "model.compile(optimizer='adam',\n",
        "              loss='sparse_categorical_crossentropy',\n",
        "              metrics=['accuracy'])\n",
        "\n",
        "model.fit(rssi, too_close, epochs=10, batch_size=500) # fits and runs model, outputting accuracy values\n"
      ],
      "execution_count": 141,
      "outputs": [
        {
          "output_type": "stream",
          "text": [
            "Epoch 1/10\n",
            "5/5 [==============================] - 0s 2ms/step - loss: 0.6931 - accuracy: 0.5009\n",
            "Epoch 2/10\n",
            "5/5 [==============================] - 0s 2ms/step - loss: 0.6931 - accuracy: 0.5009\n",
            "Epoch 3/10\n",
            "5/5 [==============================] - 0s 2ms/step - loss: 0.6931 - accuracy: 0.5009\n",
            "Epoch 4/10\n",
            "5/5 [==============================] - 0s 2ms/step - loss: 0.6931 - accuracy: 0.5009\n",
            "Epoch 5/10\n",
            "5/5 [==============================] - 0s 2ms/step - loss: 0.6931 - accuracy: 0.5009\n",
            "Epoch 6/10\n",
            "5/5 [==============================] - 0s 2ms/step - loss: 0.6931 - accuracy: 0.5009\n",
            "Epoch 7/10\n",
            "5/5 [==============================] - 0s 2ms/step - loss: 0.6931 - accuracy: 0.5009\n",
            "Epoch 8/10\n",
            "5/5 [==============================] - 0s 2ms/step - loss: 0.6931 - accuracy: 0.5009\n",
            "Epoch 9/10\n",
            "5/5 [==============================] - 0s 2ms/step - loss: 0.6931 - accuracy: 0.5009\n",
            "Epoch 10/10\n",
            "5/5 [==============================] - 0s 2ms/step - loss: 0.6931 - accuracy: 0.5009\n"
          ],
          "name": "stdout"
        },
        {
          "output_type": "execute_result",
          "data": {
            "text/plain": [
              "<tensorflow.python.keras.callbacks.History at 0x7f40f2b3a6a0>"
            ]
          },
          "metadata": {
            "tags": []
          },
          "execution_count": 141
        }
      ]
    },
    {
      "cell_type": "code",
      "metadata": {
        "id": "XLQdZjVcWvqW",
        "colab_type": "code",
        "colab": {
          "base_uri": "https://localhost:8080/",
          "height": 329
        },
        "outputId": "15e6fc23-08e1-49b4-d50e-c055a447e3d9"
      },
      "source": [
        "import matplotlib.pyplot as plt # some plotting stuff for debugging\n",
        "# Plot\n",
        "# colors = (255, 0, 0)\n",
        "print('size  of x: ', np.argmax(model(rssi), axis=1).shape)\n",
        "print('size  of y: ', too_close.shape)\n",
        "plt.scatter(rssi, np.argmax(model(rssi), axis=1), alpha=0.5)\n",
        "\n",
        "plt.title('Scatter plot')\n",
        "plt.xlabel('x')\n",
        "plt.ylabel('y')\n",
        "plt.show()"
      ],
      "execution_count": 139,
      "outputs": [
        {
          "output_type": "stream",
          "text": [
            "size  of x:  (2200,)\n",
            "size  of y:  (2200,)\n"
          ],
          "name": "stdout"
        },
        {
          "output_type": "display_data",
          "data": {
            "image/png": "[encoded data removed]",
            "text/plain": [
              "<Figure size 432x288 with 1 Axes>"
            ]
          },
          "metadata": {
            "tags": [],
            "needs_background": "light"
          }
        }
      ]
    },
    {
      "cell_type": "code",
      "metadata": {
        "id": "3iHpY185jILg",
        "colab_type": "code",
        "colab": {}
      },
      "source": [
        "\n"
      ],
      "execution_count": null,
      "outputs": []
    }
  ]
}